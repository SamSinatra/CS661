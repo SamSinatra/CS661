{
  "nbformat": 4,
  "nbformat_minor": 0,
  "metadata": {
    "kernelspec": {
      "display_name": "Python 3",
      "language": "python",
      "name": "python3"
    },
    "language_info": {
      "codemirror_mode": {
        "name": "ipython",
        "version": 3
      },
      "file_extension": ".py",
      "mimetype": "text/x-python",
      "name": "python",
      "nbconvert_exporter": "python",
      "pygments_lexer": "ipython3",
      "version": "3.6.6"
    },
    "colab": {
      "provenance": [],
      "collapsed_sections": [],
      "include_colab_link": true
    }
  },
  "cells": [
    {
      "cell_type": "markdown",
      "metadata": {
        "id": "view-in-github",
        "colab_type": "text"
      },
      "source": [
        "<a href=\"https://colab.research.google.com/github/SamSinatra/CS661/blob/main/MeshramSPythonAssignment3.ipynb\" target=\"_parent\"><img src=\"https://colab.research.google.com/assets/colab-badge.svg\" alt=\"Open In Colab\"/></a>"
      ]
    },
    {
      "cell_type": "markdown",
      "metadata": {
        "id": "gK6DXBJO8P8i"
      },
      "source": [
        "# Functions and Methods Homework - CS661 Python Programming \n",
        "Assignment - 2\n",
        "\n",
        "Total points  - 50\n",
        "\n",
        "*5 points for optimized code*\n",
        "\n",
        "Answer the following questions, download the .ipynb file and submit the file.\n",
        "\n",
        "    * Name :\n",
        "    * Sesion :\n",
        "    * CRN :"
      ]
    },
    {
      "cell_type": "markdown",
      "metadata": {
        "id": "XfU24AwxXI7k"
      },
      "source": [
        "## Question #1 \n",
        "Points : 5"
      ]
    },
    {
      "cell_type": "markdown",
      "metadata": {
        "id": "F4BcjT2sV9gN"
      },
      "source": [
        "\n",
        "One lap around a running track is exactly 0.25 miles. Write the function miles_to_laps() that takes a number of miles as an argument and returns the number of laps. Complete the program to output the number of laps.\n",
        "\n",
        "Output each floating-point value with two digits after the decimal point, which can be achieved as follows:\n",
        "print('{:.2f}'.format(your_value))\n",
        "\n",
        "    Ex: If the input is:1.5\n",
        "    the output is:6.00\n",
        "    Ex: If the input is:2.2\n",
        "    the output is:8.80\n",
        "    Your program must define and call the following function:\n",
        "            def miles_to_laps(user_miles)"
      ]
    },
    {
      "cell_type": "code",
      "metadata": {
        "collapsed": true,
        "id": "LgJtXasi8P8j"
      },
      "source": [
        "# define your function here:\n",
        "def function_name():\n",
        "  #write code here\n",
        "\n",
        "\n",
        "  "
      ],
      "execution_count": null,
      "outputs": []
    },
    {
      "cell_type": "code",
      "metadata": {
        "id": "tQTA2xzy8P8k",
        "outputId": "f233b002-1c47-4b06-d569-6732057b8dd2"
      },
      "source": [
        "if __name__ ==' __main__':\n",
        "    #call your function here!!\n"
      ],
      "execution_count": null,
      "outputs": [
        {
          "output_type": "execute_result",
          "data": {
            "text/plain": [
              "33.49333333333333"
            ]
          },
          "metadata": {
            "tags": []
          },
          "execution_count": 2
        }
      ]
    },
    {
      "cell_type": "markdown",
      "metadata": {
        "id": "u92B0DdfX2oD"
      },
      "source": [
        "## Question #2\n",
        "Points : 5"
      ]
    },
    {
      "cell_type": "markdown",
      "metadata": {
        "id": "0y7wX2Oa8P8l"
      },
      "source": [
        "\n",
        "Write a function that checks whether a number is in a given range (inclusive of high and low)"
      ]
    },
    {
      "cell_type": "code",
      "metadata": {
        "collapsed": true,
        "id": "CEM0B2pe8P8m"
      },
      "source": [
        "def ran_check(num,low,high):\n",
        "    #Write code here!"
      ],
      "execution_count": null,
      "outputs": []
    },
    {
      "cell_type": "code",
      "metadata": {
        "id": "m2c1E3We8P8n",
        "outputId": "fdce8be0-0f87-4d11-9aba-9e642773370f"
      },
      "source": [
        "# Check\n",
        "ran_check(5,2,7)"
      ],
      "execution_count": null,
      "outputs": [
        {
          "output_type": "stream",
          "text": [
            "5 is in the range between 2 and 7\n"
          ],
          "name": "stdout"
        }
      ]
    },
    {
      "cell_type": "markdown",
      "metadata": {
        "id": "ssMOQEqj8P8o"
      },
      "source": [
        "Write a function that checks whether a number is in a given range return a boolean:"
      ]
    },
    {
      "cell_type": "code",
      "metadata": {
        "collapsed": true,
        "id": "EfoWCKHU8P8o"
      },
      "source": [
        "def ran_bool(num,low,high):\n",
        "    #Write code here!"
      ],
      "execution_count": null,
      "outputs": []
    },
    {
      "cell_type": "code",
      "metadata": {
        "id": "9VtNSTkZ8P8p",
        "outputId": "02e20377-8e97-4496-f8fa-6cf8bf0a125e"
      },
      "source": [
        "ran_bool(3,1,10)"
      ],
      "execution_count": null,
      "outputs": [
        {
          "output_type": "execute_result",
          "data": {
            "text/plain": [
              "True"
            ]
          },
          "metadata": {
            "tags": []
          },
          "execution_count": 6
        }
      ]
    },
    {
      "cell_type": "markdown",
      "metadata": {
        "id": "T3c9I8EeYEFj"
      },
      "source": [
        "## Question #3\n",
        "Points : 5"
      ]
    },
    {
      "cell_type": "markdown",
      "metadata": {
        "id": "slZHyP5l8P8q"
      },
      "source": [
        "Write a Python function that accepts a string and calculates the number of upper case letters and lower case letters.\n",
        "\n",
        "    Sample String : 'Hello Students, how are you this fine Tuesday?'\n",
        "    Expected Output : \n",
        "    No. of Upper case characters : 3\n",
        "    No. of Lower case Characters : 34\n",
        "\n",
        "Note: You can use tring methods **.isupper()** and **.islower()**\n"
      ]
    },
    {
      "cell_type": "code",
      "metadata": {
        "collapsed": true,
        "id": "Ol_OBmm28P8q"
      },
      "source": [
        "def upper_lower(s):\n",
        "    #Write code here!"
      ],
      "execution_count": null,
      "outputs": []
    },
    {
      "cell_type": "code",
      "metadata": {
        "id": "zWWR_09c8P8r"
      },
      "source": [
        "s = 'Hello Students, how are you this fine Tuesday?'\n",
        "upper_lower(s)"
      ],
      "execution_count": null,
      "outputs": []
    },
    {
      "cell_type": "markdown",
      "metadata": {
        "id": "5olwRuwIZqNU"
      },
      "source": [
        "## Question #4\n",
        "Points : 5"
      ]
    },
    {
      "cell_type": "markdown",
      "metadata": {
        "id": "7zUFQ41G8P8s"
      },
      "source": [
        "Write a function to check if the given year is a leap year. A leap year is when a year has 366 days: An extra day, February 29th. The requirements for a given year to be a leap year are:\n",
        "\n",
        "    1) The year must be divisible by 4\n",
        "\n",
        "    2) If the year is a century year (1700, 1800, etc.), \n",
        "       the year must be evenly divisible by 400\n",
        "\n",
        "Some example leap years are 1600, 1712, and 2016.\n",
        "\n",
        "Funtion should takes in a year and determines whether that year is a leap year.\n",
        "\n",
        "    Ex: If the input is: 1712\n",
        "        the output is: 1712 is a leap year. "
      ]
    },
    {
      "cell_type": "code",
      "metadata": {
        "id": "5C-ujE18Z1DJ"
      },
      "source": [
        "#Define your function here\n",
        "def leap_year(year):\n"
      ],
      "execution_count": null,
      "outputs": []
    },
    {
      "cell_type": "markdown",
      "metadata": {
        "id": "idUf_Py6aGXk"
      },
      "source": [
        "## Question #5\n",
        "Points : 2.5"
      ]
    },
    {
      "cell_type": "markdown",
      "metadata": {
        "id": "c7snZQu28P8t"
      },
      "source": [
        "**Write a Python function to multiply all the numbers in a list.**\n",
        "\n",
        "    Sample List : [1, 2, 3, -4]\n",
        "    Expected Output : -24"
      ]
    },
    {
      "cell_type": "code",
      "metadata": {
        "collapsed": true,
        "id": "Xe8YuS6G8P8t"
      },
      "source": [
        "def multiply(numbers):  \n",
        "   #Write code here"
      ],
      "execution_count": null,
      "outputs": []
    },
    {
      "cell_type": "code",
      "metadata": {
        "id": "dxkO6chD8P8u",
        "outputId": "dc19676b-d5b0-443e-a82a-7f1113d703a3"
      },
      "source": [
        "multiply([1,2,3,-4])"
      ],
      "execution_count": null,
      "outputs": [
        {
          "output_type": "execute_result",
          "data": {
            "text/plain": [
              "-24"
            ]
          },
          "metadata": {
            "tags": []
          },
          "execution_count": 12
        }
      ]
    },
    {
      "cell_type": "markdown",
      "metadata": {
        "id": "M9Rfe1OOaOcO"
      },
      "source": [
        "## Question #6\n",
        "Points : 2.5"
      ]
    },
    {
      "cell_type": "markdown",
      "metadata": {
        "id": "RoyqHLjc8P8u"
      },
      "source": [
        "**Write a Python function that checks whether a word or phrase is palindrome or not.**\n",
        "\n",
        "Note: A palindrome is word, phrase, or sequence that reads the same backward as forward.\n",
        "\n",
        "    e.g., madam,kayak,racecar\n",
        "\n",
        "    input : madam\n",
        "    output: Given 'madam' is a palidrome."
      ]
    },
    {
      "cell_type": "code",
      "metadata": {
        "collapsed": true,
        "id": "sFvhrDVD8P8v"
      },
      "source": [
        "def palindrome(s):\n",
        "     #Write code here!"
      ],
      "execution_count": null,
      "outputs": []
    },
    {
      "cell_type": "code",
      "metadata": {
        "id": "zdl8a6PV8P8v",
        "outputId": "36313c08-f30c-40b7-a94c-d6b315cdd56e"
      },
      "source": [
        "palindrome('helleh')"
      ],
      "execution_count": null,
      "outputs": [
        {
          "output_type": "execute_result",
          "data": {
            "text/plain": [
              "True"
            ]
          },
          "metadata": {
            "tags": []
          },
          "execution_count": 14
        }
      ]
    },
    {
      "cell_type": "markdown",
      "metadata": {
        "id": "3a2N6cOkbRO3"
      },
      "source": [
        "## Question #7\n",
        "Points : 2.5"
      ]
    },
    {
      "cell_type": "markdown",
      "metadata": {
        "id": "ZglZKEBk8P8v"
      },
      "source": [
        "\n",
        "**Write a Python function to check whether a string is pangram or not. (Assume the string passed in does not have any punctuation)**\n",
        "\n",
        "    Note : Pangrams are words or sentences containing every letter of the alphabet at least once.\n",
        "    For example : \"The quick brown fox jumps over the lazy dog\"\n"
      ]
    },
    {
      "cell_type": "code",
      "metadata": {
        "collapsed": true,
        "id": "yddAUm4q8P8w"
      },
      "source": [
        "import string\n",
        "\n",
        "def ispangram():\n",
        "    #Write code here!"
      ],
      "execution_count": null,
      "outputs": []
    },
    {
      "cell_type": "code",
      "metadata": {
        "id": "lbJkVFz18P8w",
        "outputId": "bf096586-6303-414d-ae74-fff14751b4b3"
      },
      "source": [
        "ispangram(\"The quick brown fox jumps over the lazy dog\")"
      ],
      "execution_count": null,
      "outputs": [
        {
          "output_type": "execute_result",
          "data": {
            "text/plain": [
              "True"
            ]
          },
          "metadata": {
            "tags": []
          },
          "execution_count": 16
        }
      ]
    },
    {
      "cell_type": "markdown",
      "metadata": {
        "id": "12Xq7f2-bTpM"
      },
      "source": [
        "## Question #8\n",
        "Points : 5"
      ]
    },
    {
      "cell_type": "markdown",
      "metadata": {
        "id": "1tQN6Z4SbqkK"
      },
      "source": [
        "Toll gates have different fees based on the time of day, weekdays/weekends. Write a function that has three parameters: the current hour of time (int), time is morning (boolean) and whether the day is a weekend(boolean). The function returns the correct toll fee (float), based on the chart below.\n",
        "\n",
        "    Weekday Tolls\n",
        "\n",
        "    Before 7:00 am ($1.15)\n",
        "    7:00 am to 9:59 am ($2.95)\n",
        "    10:00 am to 2:59 pm ($1.90)\n",
        "    3:00 pm to 7:59 pm ($3.95)\n",
        "    Starting 8:00 pm ($1.40)\n",
        "    \n",
        "    Weekend Tolls\n",
        "\n",
        "    Before 7:00 am ($1.05)\n",
        "    7:00 am to 7:59 pm ($2.15)\n",
        "    Starting 8:00 pm ($1.10)\n",
        "\n",
        "    input : toll_fee(8, True, False) \n",
        "    Output : $ 2.95\n"
      ]
    },
    {
      "cell_type": "code",
      "metadata": {
        "id": "8wIRatoUc4rN"
      },
      "source": [
        "#define your code here\n",
        "\n",
        "def toll_fee(hour, morning,weekend):\n",
        "  #write code here\n",
        "\n",
        "  "
      ],
      "execution_count": null,
      "outputs": []
    },
    {
      "cell_type": "code",
      "metadata": {
        "id": "cVHmOwIYdE0-"
      },
      "source": [
        "#call your function\n",
        "\n",
        "fee = toll_fee(8, True, False)\n",
        "print(\"The fee of the hour: \", fee)"
      ],
      "execution_count": null,
      "outputs": []
    },
    {
      "cell_type": "markdown",
      "metadata": {
        "id": "QYvtpZXAdaG-"
      },
      "source": [
        "*If you extend the program to add roud trip fee extra credit point 5 will be awarded.*"
      ]
    },
    {
      "cell_type": "markdown",
      "source": [
        "## Question #9\n",
        "Points : 2.5"
      ],
      "metadata": {
        "id": "m05eI0qx0yQ-"
      }
    },
    {
      "cell_type": "markdown",
      "metadata": {
        "id": "jXU5VenxzlCd"
      },
      "source": [
        "### Branching  staements\n",
        "if - elif -  else"
      ]
    },
    {
      "cell_type": "markdown",
      "metadata": {
        "id": "EBvh7mBzxy5-"
      },
      "source": [
        "Given three values a, b, c, check which value is minimum and remove that value from other values. Write an algorithm.\n",
        "\n",
        "        Ex: If the input is:\n",
        "        a = 130\n",
        "        b = 50\n",
        "        c = 130\n",
        "        The output is:\n",
        "        a = 80\n",
        "        b = 0 \n",
        "        c = 80"
      ]
    },
    {
      "cell_type": "code",
      "metadata": {
        "id": "rvkqUdjLz1ra"
      },
      "source": [],
      "execution_count": null,
      "outputs": []
    },
    {
      "cell_type": "code",
      "metadata": {
        "id": "wptHro-c35NL"
      },
      "source": [],
      "execution_count": null,
      "outputs": []
    },
    {
      "cell_type": "markdown",
      "source": [
        "## Question #10\n",
        "Points : 5"
      ],
      "metadata": {
        "id": "ecLWyibk1D-K"
      }
    },
    {
      "cell_type": "markdown",
      "metadata": {
        "id": "ODYKstn3z2XL"
      },
      "source": [
        "26 - Write a program that takes in a year and determines whether that year is a leap year.\n",
        "\n",
        "      Ex: If the input is:  1712\n",
        "          the output is: 1712 - leap year\n",
        "\n",
        "          Note : 1) The year must be divisible by 4\n",
        "                  2) If the year is a century year (1700, 1800, etc.), the year must be evenly divisible by 400"
      ]
    },
    {
      "cell_type": "code",
      "metadata": {
        "id": "lpqlkM_R56wf"
      },
      "source": [],
      "execution_count": null,
      "outputs": []
    },
    {
      "cell_type": "markdown",
      "source": [
        "## Question #11\n",
        "Points : 5"
      ],
      "metadata": {
        "id": "7gpChkqW1Idz"
      }
    },
    {
      "cell_type": "markdown",
      "metadata": {
        "id": "BM0zCQmi7pCv"
      },
      "source": [
        "### Loops"
      ]
    },
    {
      "cell_type": "markdown",
      "metadata": {
        "id": "H4YqppqW-wmf"
      },
      "source": [
        "27 - Write a program that takes a simple password and makes it stronger by replacing certain characters as per list below and appending \"!\" to the end of the input string.\n",
        "\n",
        "        i becomes 1\n",
        "        a becomes @\n",
        "        m becomes M\n",
        "        B becomes 8\n",
        "        s becomes $\n",
        "        z becomes 2\n",
        "        o becomes 0\n",
        "        \n",
        "        If the input is: mypassword\n",
        "        the output is: Myp@$$w0rd!"
      ]
    },
    {
      "cell_type": "code",
      "metadata": {
        "id": "4qjMTqb7_oss"
      },
      "source": [
        "\n",
        "\n"
      ],
      "execution_count": null,
      "outputs": []
    },
    {
      "cell_type": "markdown",
      "source": [
        "## Question #12\n",
        "Points : 2.5"
      ],
      "metadata": {
        "id": "4SI7Buuu1Ku-"
      }
    },
    {
      "cell_type": "markdown",
      "metadata": {
        "id": "lZIJMR6FAKWH"
      },
      "source": [
        "28 - Write a program to get 10 multiples of anynumber given.\n",
        "\n",
        "    Example: if Number = 5\n",
        "    Output :5,10,15,20,25,30,35,40,45,50\n",
        "\n",
        "\n",
        "\n"
      ]
    },
    {
      "cell_type": "code",
      "metadata": {
        "id": "Her9B6KaAID7"
      },
      "source": [],
      "execution_count": null,
      "outputs": []
    }
  ]
}